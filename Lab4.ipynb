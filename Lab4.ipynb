{
 "cells": [
  {
   "cell_type": "code",
   "execution_count": 36,
   "metadata": {},
   "outputs": [],
   "source": [
    "def generateKey(string, key): \n",
    "    \"\"\" \n",
    "    This function generates the key in a cyclic manner until  \n",
    "    it's length isn't equal to the length of original text \n",
    "    \"\"\"\n",
    "    key = list(key) \n",
    "    if len(string) == len(key): \n",
    "        return(key) \n",
    "    else: \n",
    "        for i in range(len(string) - len(key)): \n",
    "            key.append(key[i % len(key)]) \n",
    "    return(\"\".join(key)) \n",
    "       \n",
    "def cipherText(string, key):\n",
    "    \"\"\"\n",
    "    This function returns the encrypted text generated  \n",
    "    with the help of the key\n",
    "    \"\"\"\n",
    "    cipher_text = [] \n",
    "    for i in range(len(string)): \n",
    "        x = (ord(string[i]) + \n",
    "             ord(key[i])) % 26\n",
    "        x += ord('A') \n",
    "        cipher_text.append(chr(x)) \n",
    "    return(\"\" . join(cipher_text)) \n",
    "      \n",
    "def originalText(cipher_text, key): \n",
    "    \"\"\"\n",
    "    This function decrypts the encrypted text and returns  \n",
    "    the original text \n",
    "    \"\"\"\n",
    "    orig_text = [] \n",
    "    for i in range(len(cipher_text)): \n",
    "        x = (ord(cipher_text[i]) - ord(key[i]) + 26) % 26\n",
    "        x += ord('A') \n",
    "        orig_text.append(chr(x)) \n",
    "    return(\"\" . join(orig_text)) "
   ]
  },
  {
   "cell_type": "code",
   "execution_count": 37,
   "metadata": {},
   "outputs": [
    {
     "name": "stdout",
     "output_type": "stream",
     "text": [
      "ILEARNEDHOWTOCALCULATETHEAMOUNTOFPAPERNEEDEDFORAROOMWHENIWASATSCHOOLYOUMULTIPLYTHESQUAREFOOTAGEOFTHEWALLSBYTHECUBICCONTENTSOFTHEFLOORANDCEILINGCOMBINEDANDDOUBLEITYOUTHENALLOWHALFTHETOTALFOROPENINGSSUCHASWINDOWSANDDOORSTHENYOUALLOWTHEOTHERHALFFORMATCHINGTHEPATTERNTHENYOUDOUBLETHEWHOLETHINGAGAINTOGIVEAMARGINOFERRORANDTHENYOUORDERTHEPAPER\n"
     ]
    }
   ],
   "source": [
    "string = \"ilear nedho wtoca lcula tethe amoun tofpa perne \\\n",
    "ededf oraro omwhe niwas atsch oolyo umult iplyt\\\n",
    "hesqu arefo otage ofthe walls bythe cubic conte\\\n",
    "ntsof thefl ooran dceil ingco mbine dandd ouble\\\n",
    "ityou thena llowh alfth etota lforo penin gssuc\\\n",
    "haswi ndows anddo orsth enyou allow theot herha\\\n",
    "lffor match ingth epatt ernth enyou doubl ethew\\\n",
    "holet hinga gaint ogive amarg inofe rrora ndthe\\\n",
    "nyouo rdert hepap er\"\n",
    "\n",
    "string = ''.join(string.split(' '))\n",
    "print(string.upper())"
   ]
  },
  {
   "cell_type": "code",
   "execution_count": 38,
   "metadata": {},
   "outputs": [
    {
     "name": "stdout",
     "output_type": "stream",
     "text": [
      "[INFO] Initial text: ILEARNEDHOWTOCALCULATETHEAMOUNTOFPAPERNEEDEDFORAROOMWHENIWASATSCHOOLYOUMULTIPLYTHESQUAREFOOTAGEOFTHEWALLSBYTHECUBICCONTENTSOFTHEFLOORANDCEILINGCOMBINEDANDDOUBLEITYOUTHENALLOWHALFTHETOTALFOROPENINGSSUCHASWINDOWSANDDOORSTHENYOUALLOWTHEOTHERHALFFORMATCHINGTHEPATTERNTHENYOUDOUBLETHEWHOLETHINGAGAINTOGIVEAMARGINOFERRORANDTHENYOUORDERTHEPAPER\n",
      "\n",
      "[INFO] Ciphertext: KCCPKBGUFDPHQTYAVINRRTMVGRKDNBVFDETDGILTXRGUDDKOTFMBPVGEGLTGCKQRACQCWDNAWCRXIZAKFTLEWRPTYCQKYVXCHKFTPONCQQRHJVAJUWETMCMSPKQDYHJVDAHCTRLSVSKCGCZQQDZXGSFRLSWCWSJTBHAFSIASPRJAHKJRJUMVGKMITZHFPDISPZLVLGWTFPLKKEBDPGCEBSHCTJRWXBAFSPEZQNRWXCVYCGAONWDDKACKAWBBIKFTIOVKCGGHJVLNHIFFSQESVYCLACNVRWBBIREPBBVFEXOSCDYGZWPFDTKFQIYCWHJVLNHIQIBTKHJVNPIST\n",
      "\n",
      "[INFO] Decrypted Text: ILEARNEDHOWTOCALCULATETHEAMOUNTOFPAPERNEEDEDFORAROOMWHENIWASATSCHOOLYOUMULTIPLYTHESQUAREFOOTAGEOFTHEWALLSBYTHECUBICCONTENTSOFTHEFLOORANDCEILINGCOMBINEDANDDOUBLEITYOUTHENALLOWHALFTHETOTALFOROPENINGSSUCHASWINDOWSANDDOORSTHENYOUALLOWTHEOTHERHALFFORMATCHINGTHEPATTERNTHENYOUDOUBLETHEWHOLETHINGAGAINTOGIVEAMARGINOFERRORANDTHENYOUORDERTHEPAPER\n",
      "\n"
     ]
    }
   ],
   "source": [
    "# Driver code \n",
    "if __name__ == \"__main__\": \n",
    "    from_file = False\n",
    "    if from_file:\n",
    "        string = read('text.txt', 'r').read()\n",
    "    else:\n",
    "        string = \"ILEARNEDHOWTOCALCULATETHEAMOUNTOFPAPERNEEDEDFORAROOMWHENIWASATSCHOOLYOUMULTIPLYTHESQUAREFOOTAGEOFTHEWALLSBYTHECUBICCONTENTSOFTHEFLOORANDCEILINGCOMBINEDANDDOUBLEITYOUTHENALLOWHALFTHETOTALFOROPENINGSSUCHASWINDOWSANDDOORSTHENYOUALLOWTHEOTHERHALFFORMATCHINGTHEPATTERNTHENYOUDOUBLETHEWHOLETHINGAGAINTOGIVEAMARGINOFERRORANDTHENYOUORDERTHEPAPER\"\n",
    "    keyword = 'CRYPTO'.upper()\n",
    "    string = string.upper()\n",
    "    \n",
    "    key = generateKey(string, keyword) \n",
    "    cipher_text = cipherText(string,key)\n",
    "    print(f\"[INFO] Initial text: {string}\\n\")\n",
    "    print(f\"[INFO] Ciphertext: {cipher_text}\\n\") \n",
    "    print(f\"[INFO] Decrypted Text: {originalText(cipher_text, key)}\\n\") "
   ]
  },
  {
   "cell_type": "code",
   "execution_count": null,
   "metadata": {},
   "outputs": [],
   "source": []
  }
 ],
 "metadata": {
  "kernelspec": {
   "display_name": "Python 3",
   "language": "python",
   "name": "python3"
  },
  "language_info": {
   "codemirror_mode": {
    "name": "ipython",
    "version": 3
   },
   "file_extension": ".py",
   "mimetype": "text/x-python",
   "name": "python",
   "nbconvert_exporter": "python",
   "pygments_lexer": "ipython3",
   "version": "3.8.5"
  }
 },
 "nbformat": 4,
 "nbformat_minor": 4
}
